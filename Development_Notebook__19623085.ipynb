{
  "nbformat": 4,
  "nbformat_minor": 0,
  "metadata": {
    "colab": {
      "provenance": [],
      "include_colab_link": true
    },
    "kernelspec": {
      "name": "python3",
      "display_name": "Python 3"
    },
    "language_info": {
      "name": "python"
    }
  },
  "cells": [
    {
      "cell_type": "markdown",
      "metadata": {
        "id": "view-in-github",
        "colab_type": "text"
      },
      "source": [
        "<a href=\"https://colab.research.google.com/github/Niitesh122/Niitesh-IBP-Assignment_2023/blob/main/Development_Notebook__19623085.ipynb\" target=\"_parent\"><img src=\"https://colab.research.google.com/assets/colab-badge.svg\" alt=\"Open In Colab\"/></a>"
      ]
    },
    {
      "cell_type": "markdown",
      "source": [
        "\n",
        "\n",
        "> **Connection To Database**\n",
        "\n"
      ],
      "metadata": {
        "id": "iM4pks62EkB7"
      }
    },
    {
      "cell_type": "code",
      "execution_count": null,
      "metadata": {
        "id": "waOViw9nD4wp"
      },
      "outputs": [],
      "source": [
        "#Download of Enron mail dataset\n",
        "!wget -O enron.db https://curtin-my.sharepoint.com/:u:/g/personal/211934g_curtin_edu_au/EaYagsqa2r1Bi5wtHbswGFwBH2kd2uTnz6rlka7GI36GUQ?download=1\n",
        "\n",
        "#establish connection with database\n",
        "conn = sqlite3.connect(\"enron.db\")"
      ]
    },
    {
      "cell_type": "markdown",
      "source": [
        "**Imports Of Libraries**"
      ],
      "metadata": {
        "id": "bj6yJcL8FqDQ"
      }
    },
    {
      "cell_type": "code",
      "source": [
        "#Necessary Libraries\n",
        "import sqlite3 #import module for connection to database\n",
        "import pandas as pd #import the pandas library for data manipulation\n",
        "import seaborn as sns #import the seaborn library for statical data visualisation\n",
        "import matplotlib.pyplot as plt #import matplotlib library for creating plots and visualisation\n"
      ],
      "metadata": {
        "id": "SLTdd81xF09a"
      },
      "execution_count": null,
      "outputs": []
    },
    {
      "cell_type": "markdown",
      "source": [
        "**Pseudocode**"
      ],
      "metadata": {
        "id": "5R1UrcTKJCS8"
      }
    },
    {
      "cell_type": "code",
      "source": [
        "#Importing the sqlite3 library enables interaction with and connection to the database.\n",
        "#Importing the pandas library offers strong facilities for data analisys and manipulation and provide functions for working with structured data such as Dataframs.\n",
        "#Importing the seaborn library enables to produce visually appealing and educational statictics visuals also making several kinds of plots.\n",
        "#Importing the matplotlib library allows building visualisation in Python such as line plots, pie chart, bar chart."
      ],
      "metadata": {
        "id": "XM3jErxjJKGN"
      },
      "execution_count": null,
      "outputs": []
    },
    {
      "cell_type": "markdown",
      "source": [
        "**Extraction Of Tables From Database**"
      ],
      "metadata": {
        "id": "3dDWBreSQZNq"
      }
    },
    {
      "cell_type": "code",
      "source": [
        "#create cursor object\n",
        "cur = conn.cursor()\n",
        "\n",
        "#retrieve names of tables in the database\n",
        "sql = \"\"\"\n",
        "SELECT name \n",
        "FROM sqlite_master\n",
        "WHERE type = \"table\";\n",
        "\"\"\"\n",
        "cur.execute(sql)\n",
        "cur.fetchall()"
      ],
      "metadata": {
        "id": "vHjs9YziRFRz"
      },
      "execution_count": null,
      "outputs": []
    },
    {
      "cell_type": "markdown",
      "source": [
        "**Pseudocode**"
      ],
      "metadata": {
        "id": "oixmxHZ-TKH4"
      }
    },
    {
      "cell_type": "code",
      "source": [
        "# Use the cursor object cur.execute(sql) to execute the SQL query.\n",
        "#The \"sql\" variable's SQL query picks the \"name\" column out of the \"sqlite_master\" table.\n",
        "# Only rows having the \"type\" column equal to \"table\" should be returned, which filters the results.\n",
        "\n",
        "# To receive all of the rows returned by the query, the \"fetchall\" method is called on the cursor object \"cur\".\n",
        "# Typically, the fetched result is returned as a list of tuples, each of which stands for a row of data."
      ],
      "metadata": {
        "id": "2Zi2nC85TTnX"
      },
      "execution_count": null,
      "outputs": []
    },
    {
      "cell_type": "markdown",
      "source": [
        "**Extraction Of Data **"
      ],
      "metadata": {
        "id": "FH0wgLz-X0Tw"
      }
    },
    {
      "cell_type": "code",
      "source": [
        "employee = SELECT * from employeelist; # Execute the following query to get all data from the \"employeelist\" table.\n",
        "message = SELECT * from message; # Request for all data from the \"message\" table\n",
        "recipient_info = SELECT * FROM Recipientinfo;  # Execute the following query to get all data from the \"Recipientinfo\" table.\n",
        "reference_info = SELECT * FROM Referenceinfo; # Execute the following query to get all data from the \"Referenceinfo\" table."
      ],
      "metadata": {
        "id": "G4UCSxVNX5d6"
      },
      "execution_count": null,
      "outputs": []
    },
    {
      "cell_type": "markdown",
      "source": [
        "**Pseudocode**"
      ],
      "metadata": {
        "id": "qhqtumomcktF"
      }
    },
    {
      "cell_type": "code",
      "source": [
        "Get all of the information from the \"employeelist\" database.\n",
        "Take everything out of the \"message\" table.\n",
        "Take all information out of the \"Recipientinfo\" table.\n",
        "Take everything out of the \"Referenceinfo\" table."
      ],
      "metadata": {
        "id": "ibKp4lm-cqDV"
      },
      "execution_count": null,
      "outputs": []
    },
    {
      "cell_type": "markdown",
      "source": [
        "Data Analysis"
      ],
      "metadata": {
        "id": "vwXMqWx1gvJ0"
      }
    },
    {
      "cell_type": "code",
      "source": [
        "# Load the data into DataFrame\n",
        "employees_df = pd.read_sql_query(sql, conn)\n",
        "employees_df\n",
        "\n",
        "# Load the data into a DataFrame\n",
        "message_df = pd.read_sql_query(sql, conn)\n",
        "message_df\n",
        "\n",
        "# Execute the SQL query and store the results in a DataFrame\n",
        "recipients_df = pd.read_sql_query(sql, conn)\n",
        "\n",
        "# Print the resulting DataFrame\n",
        "recipients_df\n",
        "\n",
        "# Execute the SQL query and store the results in a DataFrame\n",
        "references_df = pd.read_sql_query(sql, conn)\n",
        "\n",
        "# Print the resulting DataFrame\n",
        "references_df"
      ],
      "metadata": {
        "id": "e6M9pcVBg8IX"
      },
      "execution_count": null,
      "outputs": []
    },
    {
      "cell_type": "markdown",
      "source": [
        "**Pseudocode**"
      ],
      "metadata": {
        "id": "sm3To28yiKLA"
      }
    },
    {
      "cell_type": "code",
      "source": [
        "Print data that has been loaded from all the SQL query into a DataFrame."
      ],
      "metadata": {
        "id": "VpFLrHVQiPeZ"
      },
      "execution_count": null,
      "outputs": []
    }
  ]
}